{
  "nbformat": 4,
  "nbformat_minor": 0,
  "metadata": {
    "colab": {
      "provenance": [],
      "authorship_tag": "ABX9TyMWcAgr9Zyh3B5zEO1D/64z",
      "include_colab_link": true
    },
    "kernelspec": {
      "name": "python3",
      "display_name": "Python 3"
    },
    "language_info": {
      "name": "python"
    }
  },
  "cells": [
    {
      "cell_type": "markdown",
      "metadata": {
        "id": "view-in-github",
        "colab_type": "text"
      },
      "source": [
        "<a href=\"https://colab.research.google.com/github/Vinoo-nadikatla/VinoothnaNadikatla/blob/main/RPS_game.ipynb\" target=\"_parent\"><img src=\"https://colab.research.google.com/assets/colab-badge.svg\" alt=\"Open In Colab\"/></a>"
      ]
    },
    {
      "cell_type": "code",
      "execution_count": 1,
      "metadata": {
        "id": "FLe6yprpSO8H"
      },
      "outputs": [],
      "source": [
        "import random"
      ]
    },
    {
      "cell_type": "markdown",
      "source": [
        "Rock, Paper or Scissors"
      ],
      "metadata": {
        "id": "SURkBubcS9xW"
      }
    },
    {
      "cell_type": "code",
      "source": [
        "#rock paper scissors game\n",
        "select = ['Rock', 'Paper', 'Scissors']\n",
        "player = False\n",
        "player_score = 0\n",
        "cpu_score = 0\n",
        "while True:\n",
        "    computer = random.choice(select)\n",
        "    player = input(\"Rock, Paper or Scissors? (or 'End'): \").capitalize()\n",
        "\n",
        "    if player == computer:\n",
        "        print(\"Tie\")\n",
        "    elif player == 'Rock':\n",
        "        if computer == 'Paper':\n",
        "            print(\"You lose\", computer, \"covers\", player)\n",
        "            cpu_score +=1\n",
        "        else:\n",
        "            print(\"you win\", player, \"smash\", computer)\n",
        "            player_score +=1\n",
        "    elif player == 'Paper':\n",
        "        if computer == 'Scissors':\n",
        "            print(\"you lose\", computer, \"cuts\", player)\n",
        "            cpu_score +=1\n",
        "        else:\n",
        "            print(\"you win\", player, \"covers\", computer)\n",
        "            player_score +=1\n",
        "    elif player == 'Scissors':\n",
        "        if computer == 'Rock':\n",
        "            print(\"you lose\", computer, \"smash\", player)\n",
        "            cpu_score +=1\n",
        "        else:\n",
        "            print(\"you win\", player, \"cuts\", computer)\n",
        "            player_score +=1\n",
        "    elif player == 'End':\n",
        "        print(\"Final score:\")\n",
        "        print(f\"computer score is {cpu_score}\")\n",
        "        print(f\"player score is {player_score}\")\n",
        "        break\n",
        "    else:\n",
        "        print(\"play again\")\n"
      ],
      "metadata": {
        "colab": {
          "base_uri": "https://localhost:8080/"
        },
        "id": "ra3ponYuSRz5",
        "outputId": "508be66b-f74b-4501-ae94-635eb392426a"
      },
      "execution_count": 2,
      "outputs": [
        {
          "output_type": "stream",
          "name": "stdout",
          "text": [
            "Rock, Paper or Scissors? (or 'End'): rock\n",
            "Tie\n",
            "Rock, Paper or Scissors? (or 'End'): rock\n",
            "you win Rock smash Scissors\n",
            "Rock, Paper or Scissors? (or 'End'): paper\n",
            "you win Paper covers Rock\n",
            "Rock, Paper or Scissors? (or 'End'): paper\n",
            "you win Paper covers Rock\n",
            "Rock, Paper or Scissors? (or 'End'): scissors\n",
            "Tie\n",
            "Rock, Paper or Scissors? (or 'End'): scissors\n",
            "you lose Rock smash Scissors\n",
            "Rock, Paper or Scissors? (or 'End'): scissors\n",
            "you win Scissors cuts Paper\n",
            "Rock, Paper or Scissors? (or 'End'): end\n",
            "Final score:\n",
            "computer score is 1\n",
            "player score is 4\n"
          ]
        }
      ]
    },
    {
      "cell_type": "code",
      "source": [],
      "metadata": {
        "id": "toPJ7yraSXJc"
      },
      "execution_count": null,
      "outputs": []
    }
  ]
}